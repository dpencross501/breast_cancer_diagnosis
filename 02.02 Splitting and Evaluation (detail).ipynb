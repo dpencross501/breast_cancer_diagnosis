{
 "cells": [
  {
   "cell_type": "markdown",
   "metadata": {},
   "source": [
    "# What do we need to know today to create a baseline AI model?\n",
    "\n",
    "## Scenario / AI use case\n",
    "- A colleague would like to understand if AI could be used to automatically diagnose breast cancer (malignant) and not breast cancer (benign) from images of fine needle aspirates (FNAs) of breast masses.\n",
    "- They have already found some data they they would like you to work with.\n",
    "- They would like to use this AI tool at their own health centre to support clinicians to diagnore breast cancer.\n",
    "\n",
    "## Skilled team\n",
    "- Everyone on the call\n",
    "- Can be made up of subject matter experts e.g. clinicians; data engineers; data scientists; AI specialists; machine learning engineers; business analysts; project managers, and users e.g. patients\n",
    "\n",
    "## Data\n",
    "- Publicly avaliable data from Wolberg, William, et al. \"Breast Cancer Wisconsin (Diagnostic).\" UCI Machine Learning Repository, 1993, https://doi.org/10.24432/C5DW2B.\n",
    "- More information below.\n",
    "\n",
    "## AI algorithms\n",
    "- Linear Support Vector Classifier.\n",
    "- More information below."
   ]
  },
  {
   "cell_type": "markdown",
   "metadata": {},
   "source": [
    "# 1. Agree full project with clients/customers/users, including scope, timeframe and specific plan.\n",
    "\n",
    "## 1.1. Data\n",
    "- We have agreed to use publicly avaliable data from Wolberg, William, et al. \"Breast Cancer Wisconsin (Diagnostic).\" UCI Machine Learning Repository, 1993, https://doi.org/10.24432/C5DW2B.\n",
    "The original research paper can be seen here https://minds.wisconsin.edu/bitstream/handle/1793/59692/TR1131.pdf\n",
    "- 569 fine needle aspirations (FNAs) were taken. For each FNA, the aspirated material was expressed onto a glass slide and stained. A physician then decided what part of the glass slide was digitised as an image.\n",
    "- Each image was then annotated with approximate initial boundaries of enough nuclei to provide a respesentative sample.\n",
    "- Then their system smoothed out the nuclei boundaries and summarised all of the nuclei with 30 features such as mean radius, mean perimeter and mean area.\n",
    "- From the way the research paper is worded, it is assumed that each FNA is from a different person, however, this is not explicity said.\n",
    "\n",
    "![fine_needle_aspiration.png](images/fine_needle_aspiration.png)\n",
    "\n",
    "Source: https://my.clevelandclinic.org/health/diagnostics/17872-fine-needle-aspiration-fna\n",
    "\n",
    "![approximate_cell_nuclei.png](images/approximate_cell_nuclei.png)\n",
    "\n",
    "Source: https://doi.org/10.24432/C5DW2B\n",
    "\n",
    "![smoothed_cell_nuclei.png](images/smoothed_cell_nuclei.png)\n",
    "\n",
    "Source: https://doi.org/10.24432/C5DW2B\n",
    "\n",
    "### 1.1.1. Features\n",
    ">Features are the values that a supervised model uses to predict the label...\n",
    ">\n",
    ">In a weather model that predicts rainfall, the features could be latitude, longitude, temperature, humidity, cloud coverage, wind direction, and atmospheric pressure.\n",
    "\n",
    "Source: https://developers.google.com/machine-learning/intro-to-ml/supervised\n",
    "\n",
    "- The 30 features we are using represents a summary of the nuclei boundaries on each image such as mean radius, mean perimeter and mean area.\n",
    "\n",
    "For example:\n",
    "\n",
    "![features.png](images/features.png)\n",
    "\n",
    "### 1.1.2. Targets or labels\n",
    "\n",
    "- Targets or labels are \"the 'answer,' or the value we want the model to predict.\"\n",
    "- \"In a weather model that predicts rainfall,... the label would be rainfall amount.\" Or could be Yes/No for email spam detection, or 0/1.\n",
    "Source: https://developers.google.com/machine-learning/intro-to-ml/supervised\n",
    "\n",
    "- The targets we are using are 0 and 1 which represents whether the tumour associated with the image is cancerous (=0) or non-cancerous (=1).\n",
    "\n",
    "For example:\n",
    "\n",
    "![targets.png](images/targets.png)\n",
    "\n",
    "\n",
    "### 1.1.3. Is the data suitable for this task?\n",
    "Normally, this would be agreed by the whole project team.\n",
    "\n",
    "- What does a row of data represent? Is each row a different person? Is each row a different image or just a different shape within an image?\n",
    "- How was the data collected? Was the same device used? Is there any bias in how the data was collected? Will the model likely work well on other data? \n",
    "- Who cleaned the data? Has this been validated?/Is it correct?\n",
    "- Who did the labelling? Was this validated?\n",
    "- Is the data representative of who this AI tool will be used on? Will the tool work for everyone or are there groups of people where the tool performs worse?\n",
    "- Ultimately, we want the model which uses the data to be valid, reliable and generalisable. For more information, see https://www.healthknowledge.org.uk/content/validity-reliability-and-generalisability"
   ]
  },
  {
   "cell_type": "markdown",
   "metadata": {},
   "source": [
    "\n",
    "## 1.2. Agreed to do\n",
    "\n",
    "### 1.2.1. Baseline AI model\n",
    "\n",
    "“Baseline models are basic models that are used as a foundation for more complicated models.\n",
    "They are a benchmark against which more complex models may be evaluated.”\n",
    "\n",
    "Source: https://www.deepchecks.com/glossary/baseline-models/\n",
    "\n",
    "- Let's assume there aren't any models that use this data for this task.\n",
    "\n",
    "### 1.2.2. Model creation plan:\n",
    "\n",
    "- a) Train and test split\n",
    "- b) Train model using chosen algorithm and train data only\n",
    "- c) Evaluate the model using test data"
   ]
  },
  {
   "cell_type": "markdown",
   "metadata": {},
   "source": [
    "# 2. Develop the model\n",
    "\n",
    "## 2.1. Import chosen libraries\n",
    "\n",
    "- To learn more about sklearn, search the package names on their official website https://scikit-learn.org/stable/index.html\n",
    "- To learn more about pandas, search their official website https://pandas.pydata.org/docs/\n",
    "- To learn more about matplotlib, search their official website https://matplotlib.org/stable/search.html"
   ]
  },
  {
   "cell_type": "code",
   "execution_count": 2,
   "metadata": {},
   "outputs": [],
   "source": [
    "#to manipulate data tables\n",
    "import pandas as pd\n",
    "\n",
    "#to load the breast cancer data\n",
    "from sklearn.datasets import load_breast_cancer\n",
    "\n",
    "#to perform splitting the data into a train set and test set\n",
    "from sklearn.model_selection import train_test_split\n",
    "\n",
    "#to perform linear support vector classification\n",
    "from sklearn.svm import LinearSVC\n",
    "\n",
    "#to show graphs of the data\n",
    "import matplotlib.pyplot as plt\n",
    "\n",
    "# to show a chart of the confusion matrix\n",
    "from sklearn.metrics import ConfusionMatrixDisplay"
   ]
  },
  {
   "cell_type": "markdown",
   "metadata": {},
   "source": [
    "## 2.2. Set the seed state, or `random_state`\n",
    "\n",
    ">Pseudo Random Number Generator(PRNG) refers to an algorithm that uses mathematical formulas to produce sequences of random numbers...\n",
    ">\n",
    ">A PRNG starts from an arbitrary starting state using a seed state.\n",
    ">\n",
    ">Many numbers are generated in a short time and can also be reproduced later, if the starting point in the sequence is known. Hence, the numbers are deterministic and efficient.\n",
    "\n",
    "Source: https://www.geeksforgeeks.org/pseudo-random-number-generator-prng/\n",
    "\n",
    ">Setting a `random_state` ensures that the results are reproducible.\n",
    "\n",
    "Source: https://www.geeksforgeeks.org/what-is-scikit-learn-random-state-in-splitting-dataset/"
   ]
  },
  {
   "cell_type": "code",
   "execution_count": 3,
   "metadata": {},
   "outputs": [],
   "source": [
    "chosen_random_state = 2541"
   ]
  },
  {
   "cell_type": "markdown",
   "metadata": {},
   "source": [
    "## 2.3. Load the data\n",
    "\n",
    "The data can be loaded from the Python library sklearn.\n",
    "\n",
    "- `return_X_y=True` just returns the image data and the cancer classification of malignant (represented as 0) or benign (represented as 1)\n",
    "- `as_frame=True` returns both datasets as a pandas DataFrame and Series\n",
    "\n",
    "Source: https://scikit-learn.org/stable/modules/generated/sklearn.datasets.load_breast_cancer.html"
   ]
  },
  {
   "cell_type": "code",
   "execution_count": 4,
   "metadata": {},
   "outputs": [],
   "source": [
    "data = load_breast_cancer(return_X_y=True, as_frame=True)"
   ]
  },
  {
   "cell_type": "code",
   "execution_count": 5,
   "metadata": {},
   "outputs": [
    {
     "name": "stdout",
     "output_type": "stream",
     "text": [
      "data has <class 'tuple'> and there are 2 items\n"
     ]
    }
   ],
   "source": [
    "print(f\"data has {type(data)} and there are {len(data)} items\")"
   ]
  },
  {
   "cell_type": "code",
   "execution_count": 6,
   "metadata": {},
   "outputs": [],
   "source": [
    "#the first item, which has index 0 is the image data\n",
    "x = data[0]\n",
    "\n",
    "#the second item, which has index 1 is the cancer classification\n",
    "y = data[1]"
   ]
  },
  {
   "cell_type": "code",
   "execution_count": 7,
   "metadata": {},
   "outputs": [
    {
     "data": {
      "text/html": [
       "<div>\n",
       "<style scoped>\n",
       "    .dataframe tbody tr th:only-of-type {\n",
       "        vertical-align: middle;\n",
       "    }\n",
       "\n",
       "    .dataframe tbody tr th {\n",
       "        vertical-align: top;\n",
       "    }\n",
       "\n",
       "    .dataframe thead th {\n",
       "        text-align: right;\n",
       "    }\n",
       "</style>\n",
       "<table border=\"1\" class=\"dataframe\">\n",
       "  <thead>\n",
       "    <tr style=\"text-align: right;\">\n",
       "      <th></th>\n",
       "      <th>mean radius</th>\n",
       "      <th>mean texture</th>\n",
       "      <th>mean perimeter</th>\n",
       "      <th>mean area</th>\n",
       "      <th>mean smoothness</th>\n",
       "      <th>mean compactness</th>\n",
       "      <th>mean concavity</th>\n",
       "      <th>mean concave points</th>\n",
       "      <th>mean symmetry</th>\n",
       "      <th>mean fractal dimension</th>\n",
       "      <th>...</th>\n",
       "      <th>worst radius</th>\n",
       "      <th>worst texture</th>\n",
       "      <th>worst perimeter</th>\n",
       "      <th>worst area</th>\n",
       "      <th>worst smoothness</th>\n",
       "      <th>worst compactness</th>\n",
       "      <th>worst concavity</th>\n",
       "      <th>worst concave points</th>\n",
       "      <th>worst symmetry</th>\n",
       "      <th>worst fractal dimension</th>\n",
       "    </tr>\n",
       "  </thead>\n",
       "  <tbody>\n",
       "    <tr>\n",
       "      <th>0</th>\n",
       "      <td>17.99</td>\n",
       "      <td>10.38</td>\n",
       "      <td>122.8</td>\n",
       "      <td>1001.0</td>\n",
       "      <td>0.11840</td>\n",
       "      <td>0.27760</td>\n",
       "      <td>0.3001</td>\n",
       "      <td>0.14710</td>\n",
       "      <td>0.2419</td>\n",
       "      <td>0.07871</td>\n",
       "      <td>...</td>\n",
       "      <td>25.38</td>\n",
       "      <td>17.33</td>\n",
       "      <td>184.6</td>\n",
       "      <td>2019.0</td>\n",
       "      <td>0.1622</td>\n",
       "      <td>0.6656</td>\n",
       "      <td>0.7119</td>\n",
       "      <td>0.2654</td>\n",
       "      <td>0.4601</td>\n",
       "      <td>0.11890</td>\n",
       "    </tr>\n",
       "    <tr>\n",
       "      <th>1</th>\n",
       "      <td>20.57</td>\n",
       "      <td>17.77</td>\n",
       "      <td>132.9</td>\n",
       "      <td>1326.0</td>\n",
       "      <td>0.08474</td>\n",
       "      <td>0.07864</td>\n",
       "      <td>0.0869</td>\n",
       "      <td>0.07017</td>\n",
       "      <td>0.1812</td>\n",
       "      <td>0.05667</td>\n",
       "      <td>...</td>\n",
       "      <td>24.99</td>\n",
       "      <td>23.41</td>\n",
       "      <td>158.8</td>\n",
       "      <td>1956.0</td>\n",
       "      <td>0.1238</td>\n",
       "      <td>0.1866</td>\n",
       "      <td>0.2416</td>\n",
       "      <td>0.1860</td>\n",
       "      <td>0.2750</td>\n",
       "      <td>0.08902</td>\n",
       "    </tr>\n",
       "    <tr>\n",
       "      <th>2</th>\n",
       "      <td>19.69</td>\n",
       "      <td>21.25</td>\n",
       "      <td>130.0</td>\n",
       "      <td>1203.0</td>\n",
       "      <td>0.10960</td>\n",
       "      <td>0.15990</td>\n",
       "      <td>0.1974</td>\n",
       "      <td>0.12790</td>\n",
       "      <td>0.2069</td>\n",
       "      <td>0.05999</td>\n",
       "      <td>...</td>\n",
       "      <td>23.57</td>\n",
       "      <td>25.53</td>\n",
       "      <td>152.5</td>\n",
       "      <td>1709.0</td>\n",
       "      <td>0.1444</td>\n",
       "      <td>0.4245</td>\n",
       "      <td>0.4504</td>\n",
       "      <td>0.2430</td>\n",
       "      <td>0.3613</td>\n",
       "      <td>0.08758</td>\n",
       "    </tr>\n",
       "  </tbody>\n",
       "</table>\n",
       "<p>3 rows × 30 columns</p>\n",
       "</div>"
      ],
      "text/plain": [
       "   mean radius  mean texture  mean perimeter  mean area  mean smoothness  \\\n",
       "0        17.99         10.38           122.8     1001.0          0.11840   \n",
       "1        20.57         17.77           132.9     1326.0          0.08474   \n",
       "2        19.69         21.25           130.0     1203.0          0.10960   \n",
       "\n",
       "   mean compactness  mean concavity  mean concave points  mean symmetry  \\\n",
       "0           0.27760          0.3001              0.14710         0.2419   \n",
       "1           0.07864          0.0869              0.07017         0.1812   \n",
       "2           0.15990          0.1974              0.12790         0.2069   \n",
       "\n",
       "   mean fractal dimension  ...  worst radius  worst texture  worst perimeter  \\\n",
       "0                 0.07871  ...         25.38          17.33            184.6   \n",
       "1                 0.05667  ...         24.99          23.41            158.8   \n",
       "2                 0.05999  ...         23.57          25.53            152.5   \n",
       "\n",
       "   worst area  worst smoothness  worst compactness  worst concavity  \\\n",
       "0      2019.0            0.1622             0.6656           0.7119   \n",
       "1      1956.0            0.1238             0.1866           0.2416   \n",
       "2      1709.0            0.1444             0.4245           0.4504   \n",
       "\n",
       "   worst concave points  worst symmetry  worst fractal dimension  \n",
       "0                0.2654          0.4601                  0.11890  \n",
       "1                0.1860          0.2750                  0.08902  \n",
       "2                0.2430          0.3613                  0.08758  \n",
       "\n",
       "[3 rows x 30 columns]"
      ]
     },
     "execution_count": 7,
     "metadata": {},
     "output_type": "execute_result"
    }
   ],
   "source": [
    "#this is the three rows of x, the image data \n",
    "x.head(3)"
   ]
  },
  {
   "cell_type": "code",
   "execution_count": 8,
   "metadata": {},
   "outputs": [
    {
     "data": {
      "text/plain": [
       "0    0\n",
       "1    0\n",
       "2    0\n",
       "Name: target, dtype: int64"
      ]
     },
     "execution_count": 8,
     "metadata": {},
     "output_type": "execute_result"
    }
   ],
   "source": [
    "#this is the three rows of y, the cancer classification \n",
    "y.head(3)"
   ]
  },
  {
   "cell_type": "code",
   "execution_count": 9,
   "metadata": {},
   "outputs": [
    {
     "data": {
      "text/plain": [
       "target\n",
       "1    357\n",
       "0    212\n",
       "Name: count, dtype: int64"
      ]
     },
     "execution_count": 9,
     "metadata": {},
     "output_type": "execute_result"
    }
   ],
   "source": [
    "#there are 357 benign cases (represented as 1) and 212 malignant cases (represented as 0)\n",
    "y.value_counts()"
   ]
  },
  {
   "cell_type": "markdown",
   "metadata": {},
   "source": [
    "## 2.4. Train/test split\n",
    "\n",
    ">Data splitting is a commonly used approach for model validation, where we split a given dataset into two disjoint sets: training and testing. The statistical and machine learning models are then fitted on the training set and validated using the testing set. By holding out a set of data for validation separate from training, we can evaluate and compare the predictive performance of different models without worrying about possible overfitting on the training set.\n",
    ">\n",
    ">...\n",
    ">\n",
    ">The foregoing data splitting methods can be implemented once we specify a splitting ratio. A commonly used ratio is 80:20, which means 80% of the data is for training and 20% for testing. Other ratios such as 70:30, 60:40, and even 50:50 are also used in practice. There does not seem to be clear guidance on what ratio is best or optimal for a given dataset. The 80:20 split draws its justification from the well-known Pareto principle, but that is again just a thumb rule used by practitioners.\n",
    "\n",
    "Source: https://onlinelibrary.wiley.com/doi/10.1002/sam.11583\n",
    "\n",
    "For example, we could split a dataset into train and test based on time period. In this example, it is currently 2016. We use data from 2011 to 2015 to train the model and withold data from 2015 to 2016. We are pretending that the model was created in 2015 so that we know for sure what happens in the future, which is our test set.\n",
    "\n",
    "![train_test.png](images/train_test.png)\n",
    "\n",
    "There are different methods to split the data, depending on the data being used and the problem but for simplicity for this short session, we will use the sklearn defaults."
   ]
  },
  {
   "cell_type": "code",
   "execution_count": 10,
   "metadata": {},
   "outputs": [],
   "source": [
    "x_train, x_test, y_train, y_test = train_test_split( # this function splits x and y data into 4 parts. The first two are where the features, or x, are split into train and test. The second two are where the targets, or y, are split into train and test.\n",
    "                                                    x, # this is the features data \n",
    "                                                    y, # this is the target data\n",
    "                                                    test_size=0.2, # this is the percentage of data that will be sectioned off in the test set so the train set will have 80% of the data and the test set will have 20%\n",
    "                                                    random_state=chosen_random_state # this is the seed state or random state, see section 2.2. for more information\n",
    "                                                    )"
   ]
  },
  {
   "cell_type": "code",
   "execution_count": 11,
   "metadata": {},
   "outputs": [
    {
     "name": "stdout",
     "output_type": "stream",
     "text": [
      "x shape is (569, 30) which is (number of rows, columns)\n",
      "y shape is (569,). Where there is no value, this represents 1. For example, y has 1 column\n",
      "\n",
      "x_train shape is (455, 30) which is (number of rows, columns). 455 is 80% of the data. \n",
      "y_train shape is (455,). Where there is no value, this represents 1. For example, y has 1 column\n",
      "      \n",
      "x_test shape is (114, 30). 114 is 20% of the data.\n",
      "y_test shape is (114,). Where there is no value, this represents 1. For example, y has 1 column\n"
     ]
    }
   ],
   "source": [
    "print(f\"\"\"x shape is {x.shape} which is (number of rows, columns)\n",
    "y shape is {y.shape}. Where there is no value, this represents 1. For example, y has 1 column\n",
    "\n",
    "x_train shape is {x_train.shape} which is (number of rows, columns). {len(x_train)} is 80% of the data. \n",
    "y_train shape is {y_train.shape}. Where there is no value, this represents 1. For example, y has 1 column\n",
    "      \n",
    "x_test shape is {x_test.shape}. {len(x_test)} is 20% of the data.\n",
    "y_test shape is {y_test.shape}. Where there is no value, this represents 1. For example, y has 1 column\"\"\")"
   ]
  },
  {
   "cell_type": "markdown",
   "metadata": {},
   "source": [
    "## 2.5. Model training\n",
    "\n",
    "There are many different algorithms you can use to create a baseline model. We are doing a binary classification so would need a model that could do classification. More information on choosing a suitable algorithm can be found here https://www.geeksforgeeks.org/choosing-a-suitable-machine-learning-algorithm/\n",
    "\n",
    "Normally we would check to see if others had already tried to solve this problem or a similar problem so we don't duplicate work and we learn from others. We assumed there aren't any models that use this data for this task.\n",
    "\n",
    "Arbitrarily, linear support vector classifier has been chosen as the algorithm. This uses straight (linear) lines or hyperplanes to separate the data into the two classes or labels.\n",
    "\n",
    "For example, the hyperplane shown in the chart below separates Class 1 and Class 2. Points to the left of the hyperplane would be predicted as Class 2. Points to the right of the hyperplane would be predicted as Class 1.\n",
    "\n",
    "![linear_svc.png](images/linear_svc.png)\n",
    "\n",
    "Source: https://www.ibm.com/topics/support-vector-machine\n",
    "\n",
    "There are different settings, or hyperparameters, for the algorithm that are set by us. For simplicity, we will use the sklearn defaults.\n",
    "\n",
    "More information about this algorithm and its hyperparameters can be found through the links:\n",
    "- https://www.robots.ox.ac.uk/~az/lectures/ml/lect2.pdf\n",
    "- https://www.ibm.com/topics/support-vector-machine\n",
    "- https://scikit-learn.org/stable/modules/generated/sklearn.svm.LinearSVC.html\n",
    "- https://www.analyticsvidhya.com/blog/2021/04/insight-into-svm-support-vector-machine-along-with-code/\n",
    "- https://link.springer.com/protocol/10.1007/978-1-60327-241-4_13 (if you are able to gain access)"
   ]
  },
  {
   "cell_type": "code",
   "execution_count": 12,
   "metadata": {},
   "outputs": [],
   "source": [
    "# the model is only trained from the train set\n",
    "# we use the chosen random state to make sure that our results are replicatable\n",
    "# we only need one line to train the model!\n",
    "linear_svc_model = LinearSVC(random_state=chosen_random_state).fit(x_train, y_train)"
   ]
  },
  {
   "cell_type": "markdown",
   "metadata": {},
   "source": [
    "# 3. Model evaluation\n",
    "\n",
    "We use the trained model and the test set to check how well the model performs on \"unseen\" data.\n",
    "\n",
    "We need to quanitify \"how well\" the model performs. As we are doing supervised binary classification, we can use evaluation metrics such as accuracy, sensitivity, recall, specificity, precision and F-score. The most suitable evaluation metrics we choose depends on the specific problem we are looking to solve with the model and what our data looks like.\n",
    "\n",
    "The evalution metrics mentioned can be calculated from what is called a confusion matrix. More information on how to calculate evaluation metrics from the confusion matrix can be found here https://www.nature.com/articles/s41598-024-56706-x\n",
    "\n",
    "For example, in the confusion matrix below, there were 25 items (12 + 10 + 2 + 1) that were predicted.\n",
    "- From the 25 that were predicted, the model got 22 correct (12 + 10).\n",
    "- Out of 13 items (12 + 1) with actual label 0, 12 items (top left) were correctly predicted and 1 item (top right) was incorrectly predicted.\n",
    "- Out of 12 items (2 + 10) with actual label 1, 10 items (bottom right) were correctly predicted and 2 items (bottom left) were incorrectly predicted.\n",
    "\n",
    "![confusion_matrix_example.png](images/confusion_matrix_example.png)\n",
    "\n",
    "Source: https://scikit-learn.org/stable/modules/generated/sklearn.metrics.ConfusionMatrixDisplay.html#sklearn.metrics.ConfusionMatrixDisplay.from_estimator\n",
    "\n",
    "An example of how the confusion matrix can be used to calculate evaluation metrics can be seen below:\n",
    "\n",
    "![confusion_matrix.png](images/confusion_matrix.png)\n",
    "\n",
    "Source: https://www.kdnuggets.com/2022/11/confusion-matrix-precision-recall-explained.html\n",
    "\n",
    "More information about confusion matrices can be found here https://www.analyticsvidhya.com/articles/confusion-matrix-in-machine-learning/\n",
    "\n",
    "At this stage, these evaluation metrics may not tell you the full story of what the model is doing. You may want to do more analysis and check if the model is biased. For example, are there groups of people who the model performs worse for? More information about types of bias can be found here https://developers.google.com/machine-learning/crash-course/fairness/types-of-bias"
   ]
  },
  {
   "cell_type": "code",
   "execution_count": 13,
   "metadata": {},
   "outputs": [
    {
     "name": "stdout",
     "output_type": "stream",
     "text": [
      "actual/true labels:\n"
     ]
    },
    {
     "data": {
      "text/plain": [
       "array([1, 1, 0, 1, 0, 1, 1, 1, 0, 1, 1, 1, 1, 1, 1, 1, 1, 1, 0, 1, 1, 1,\n",
       "       1, 0, 0, 1, 0, 1, 1, 0, 0, 1, 1, 1, 0, 1, 1, 1, 1, 1, 0, 1, 1, 1,\n",
       "       1, 0, 1, 1, 0, 0, 1, 0, 0, 1, 0, 0, 0, 0, 0, 0, 0, 1, 1, 0, 1, 0,\n",
       "       0, 0, 1, 1, 1, 1, 0, 0, 1, 1, 1, 1, 1, 1, 0, 1, 1, 1, 1, 0, 1, 0,\n",
       "       1, 1, 1, 1, 1, 0, 1, 1, 0, 1, 1, 0, 1, 0, 0, 1, 0, 0, 1, 1, 1, 1,\n",
       "       1, 0, 1, 0])"
      ]
     },
     "execution_count": 13,
     "metadata": {},
     "output_type": "execute_result"
    }
   ],
   "source": [
    "# these are the actual classifications\n",
    "print(\"actual/true labels:\")\n",
    "y_test.values"
   ]
  },
  {
   "cell_type": "code",
   "execution_count": 14,
   "metadata": {},
   "outputs": [
    {
     "name": "stdout",
     "output_type": "stream",
     "text": [
      "predicted labels:\n"
     ]
    },
    {
     "data": {
      "text/plain": [
       "array([1, 1, 0, 1, 0, 1, 1, 1, 0, 1, 1, 1, 1, 1, 1, 1, 1, 1, 0, 1, 1, 1,\n",
       "       1, 0, 1, 1, 0, 1, 1, 1, 0, 1, 1, 1, 0, 0, 1, 1, 1, 1, 0, 1, 1, 1,\n",
       "       1, 0, 1, 1, 0, 0, 1, 0, 0, 1, 0, 1, 0, 0, 0, 0, 0, 1, 1, 0, 1, 0,\n",
       "       0, 0, 1, 1, 1, 1, 0, 0, 1, 1, 1, 1, 1, 1, 0, 1, 1, 1, 1, 0, 1, 0,\n",
       "       1, 0, 1, 0, 1, 0, 1, 1, 0, 1, 1, 0, 1, 0, 0, 1, 0, 0, 1, 1, 1, 1,\n",
       "       1, 0, 1, 0])"
      ]
     },
     "execution_count": 14,
     "metadata": {},
     "output_type": "execute_result"
    }
   ],
   "source": [
    "# using the trained model AND the test set, these show the predictions for the test set\n",
    "print(\"predicted labels:\")\n",
    "pred_y_test = linear_svc_model.predict(x_test)\n",
    "pred_y_test"
   ]
  },
  {
   "cell_type": "code",
   "execution_count": 15,
   "metadata": {},
   "outputs": [
    {
     "data": {
      "image/png": "[encoded data removed]",
      "text/plain": [
       "<Figure size 640x480 with 2 Axes>"
      ]
     },
     "metadata": {},
     "output_type": "display_data"
    }
   ],
   "source": [
    "# this is a chart of the confusion matrix\n",
    "ConfusionMatrixDisplay.from_estimator(linear_svc_model, x_test, y_test)\n",
    "plt.show()"
   ]
  },
  {
   "cell_type": "code",
   "execution_count": 16,
   "metadata": {},
   "outputs": [
    {
     "name": "stdout",
     "output_type": "stream",
     "text": [
      "percentage of total count:\n",
      "e.g. 0.36 represents 36 percent\n"
     ]
    },
    {
     "data": {
      "image/png": "[encoded data removed]",
      "text/plain": [
       "<Figure size 640x480 with 2 Axes>"
      ]
     },
     "metadata": {},
     "output_type": "display_data"
    }
   ],
   "source": [
    "# this is a chart of the confusion matrix but displayed as a percentage of the total number of items\n",
    "print(\"\"\"percentage of total count:\n",
    "e.g. 0.36 represents 36 percent\"\"\")\n",
    "\n",
    "ConfusionMatrixDisplay.from_estimator(linear_svc_model, x_test, y_test, normalize=\"all\")\n",
    "plt.show()"
   ]
  }
 ],
 "metadata": {
  "kernelspec": {
   "display_name": ".venv",
   "language": "python",
   "name": "python3"
  },
  "language_info": {
   "codemirror_mode": {
    "name": "ipython",
    "version": 3
   },
   "file_extension": ".py",
   "mimetype": "text/x-python",
   "name": "python",
   "nbconvert_exporter": "python",
   "pygments_lexer": "ipython3",
   "version": "3.12.0"
  }
 },
 "nbformat": 4,
 "nbformat_minor": 2
}
